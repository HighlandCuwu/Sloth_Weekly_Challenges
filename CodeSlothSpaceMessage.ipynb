{
  "nbformat": 4,
  "nbformat_minor": 0,
  "metadata": {
    "colab": {
      "provenance": [],
      "authorship_tag": "ABX9TyMOsXwNc5jNwPJTDBlFWuFX",
      "include_colab_link": true
    },
    "kernelspec": {
      "name": "python3",
      "display_name": "Python 3"
    },
    "language_info": {
      "name": "python"
    }
  },
  "cells": [
    {
      "cell_type": "markdown",
      "metadata": {
        "id": "view-in-github",
        "colab_type": "text"
      },
      "source": [
        "<a href=\"https://colab.research.google.com/github/HighlandCuwu/Sloth_Weekly_Challenges/blob/main/CodeSlothSpaceMessage.ipynb\" target=\"_parent\"><img src=\"https://colab.research.google.com/assets/colab-badge.svg\" alt=\"Open In Colab\"/></a>"
      ]
    },
    {
      "cell_type": "code",
      "execution_count": 1,
      "metadata": {
        "id": "IIG2-irorTQU"
      },
      "outputs": [],
      "source": [
        "def spaceMessage(s):\n",
        "  output = \"\"\n",
        "  i = 0\n",
        "\n",
        "  while i < len(s):\n",
        "    if s[i] == '[':\n",
        "      i += 1\n",
        "      num_str = \"\"\n",
        "      while s[i].isdigit():\n",
        "        num_str += s[i]\n",
        "        i += 1\n",
        "      repeat_count = int(num_str)\n",
        "\n",
        "      chars_to_repeat = \"\"\n",
        "      while s[i] != ']':\n",
        "        chars_to_repeat += s[i]\n",
        "        i += 1\n",
        "\n",
        "      output += (chars_to_repeat * repeat_count)\n",
        "\n",
        "    else:\n",
        "      output += s[i]\n",
        "\n",
        "    i += 1\n",
        "\n",
        "  print(output)"
      ]
    },
    {
      "cell_type": "code",
      "source": [
        "spaceMessage(\"ABDC\")\n",
        "spaceMessage(\"AB[3CD]\")\n",
        "spaceMessage(\"IF[2E]LG[5O]D\")\n",
        "spaceMessage(\"IF[2E]LG[50O]D\")"
      ],
      "metadata": {
        "colab": {
          "base_uri": "https://localhost:8080/"
        },
        "id": "UaQcb7sJsbHv",
        "outputId": "18dbe0be-e493-4a09-bd3c-4e45357362de"
      },
      "execution_count": 2,
      "outputs": [
        {
          "output_type": "stream",
          "name": "stdout",
          "text": [
            "ABDC\n",
            "ABCDCDCD\n",
            "IFEELGOOOOOD\n",
            "IFEELGOOOOOOOOOOOOOOOOOOOOOOOOOOOOOOOOOOOOOOOOOOOOOOOOOOD\n"
          ]
        }
      ]
    },
    {
      "cell_type": "code",
      "source": [],
      "metadata": {
        "id": "JrNnsuaAstCv"
      },
      "execution_count": null,
      "outputs": []
    }
  ]
}