{
  "nbformat": 4,
  "nbformat_minor": 0,
  "metadata": {
    "colab": {
      "provenance": [],
      "authorship_tag": "ABX9TyPq9ddQAbDmxvIBl2CrZ2lf",
      "include_colab_link": true
    },
    "kernelspec": {
      "name": "python3",
      "display_name": "Python 3"
    },
    "language_info": {
      "name": "python"
    }
  },
  "cells": [
    {
      "cell_type": "markdown",
      "metadata": {
        "id": "view-in-github",
        "colab_type": "text"
      },
      "source": [
        "<a href=\"https://colab.research.google.com/github/HighlandCuwu/Sloth_Weekly_Challenges/blob/main/CodeSlothLemonadeStand.ipynb\" target=\"_parent\"><img src=\"https://colab.research.google.com/assets/colab-badge.svg\" alt=\"Open In Colab\"/></a>"
      ]
    },
    {
      "cell_type": "code",
      "execution_count": 15,
      "metadata": {
        "id": "F5bVmmRCqFR_"
      },
      "outputs": [],
      "source": [
        "def get_customers():\n",
        "\n",
        "  bills = []\n",
        "\n",
        "  while True:\n",
        "    try:\n",
        "      customers = int(input(\"How many customers are there? \"))\n",
        "\n",
        "      if customers <= 0:\n",
        "        print(\"Error: The customers must be greater than 0.\")\n",
        "        continue\n",
        "      break\n",
        "\n",
        "    except ValueError:\n",
        "      print(\"Error: Please enter a valid integer for the number of customers.\")\n",
        "\n",
        "\n",
        "  for i in range(customers):\n",
        "    while True:\n",
        "      try:\n",
        "        payment = int(input(f\"Enter the bills paid by customer {i+1}: \"))\n",
        "\n",
        "        if payment in [5, 10,20]:\n",
        "          bills.append(payment)\n",
        "          break\n",
        "\n",
        "        else:\n",
        "          print(\"Error: The bills must be a $5, $10, or $20. Please try again.\")\n",
        "\n",
        "      except ValueError:\n",
        "        print(\"Error: Please enter a valid integer.\")\n",
        "\n",
        "\n",
        "  return bills"
      ]
    },
    {
      "cell_type": "code",
      "source": [
        "def lemonade():\n",
        "  change = {5: 0, 10:0, 20:0}\n",
        "\n",
        "  bills = get_customers()\n",
        "\n",
        "  for bill in bills:\n",
        "\n",
        "    if bill == 5:\n",
        "      change[5] += 1\n",
        "\n",
        "    elif bill == 10:\n",
        "      if change[5] == 0:\n",
        "        return False\n",
        "      change[5] -= 1\n",
        "      change[10] += 1\n",
        "\n",
        "    elif bill == 20:\n",
        "      if change[10] >= 1 and change[5] >= 1:\n",
        "        change[10] -= 1\n",
        "        change[5] -= 1\n",
        "        change[20] += 1\n",
        "\n",
        "      elif change[5] >= 3:\n",
        "        change[5] -= 3\n",
        "        change[20] += 1\n",
        "\n",
        "      else:\n",
        "        return False\n",
        "\n",
        "  return True"
      ],
      "metadata": {
        "id": "qeYNXBCvqeYN"
      },
      "execution_count": 47,
      "outputs": []
    },
    {
      "cell_type": "code",
      "source": [
        "result = lemonade()\n",
        "print(result)"
      ],
      "metadata": {
        "colab": {
          "base_uri": "https://localhost:8080/"
        },
        "id": "9JYuWgnquQLw",
        "outputId": "c3a1b8b7-a513-4929-93de-53a6c2496761"
      },
      "execution_count": 48,
      "outputs": [
        {
          "output_type": "stream",
          "name": "stdout",
          "text": [
            "How many customers are there? five\n",
            "Error: Please enter a valid integer for the number of customers.\n",
            "How many customers are there? #\n",
            "Error: Please enter a valid integer for the number of customers.\n",
            "How many customers are there? -5\n",
            "Error: The customers must be greater than 0.\n",
            "How many customers are there? 5\n",
            "Enter the bills paid by customer 1: five\n",
            "Error: Please enter a valid integer.\n",
            "Enter the bills paid by customer 1: $\n",
            "Error: Please enter a valid integer.\n",
            "Enter the bills paid by customer 1: -5\n",
            "Error: The bills must be a $5, $10, or $20. Please try again.\n",
            "Enter the bills paid by customer 1: 5\n",
            "Enter the bills paid by customer 2: 5\n",
            "Enter the bills paid by customer 3: 5\n",
            "Enter the bills paid by customer 4: 10\n",
            "Enter the bills paid by customer 5: 20\n",
            "True\n"
          ]
        }
      ]
    },
    {
      "cell_type": "code",
      "source": [
        "result = lemonade()\n",
        "print(result)"
      ],
      "metadata": {
        "colab": {
          "base_uri": "https://localhost:8080/"
        },
        "id": "Pb2FIJNtuZ0H",
        "outputId": "93007cfa-6361-4e69-81ed-ebacbd8c0590"
      },
      "execution_count": 49,
      "outputs": [
        {
          "output_type": "stream",
          "name": "stdout",
          "text": [
            "How many customers are there? 5\n",
            "Enter the bills paid by customer 1: 5\n",
            "Enter the bills paid by customer 2: 5\n",
            "Enter the bills paid by customer 3: 10\n",
            "Enter the bills paid by customer 4: 10\n",
            "Enter the bills paid by customer 5: 20\n",
            "False\n"
          ]
        }
      ]
    },
    {
      "cell_type": "code",
      "source": [
        "result = lemonade()\n",
        "print(result)"
      ],
      "metadata": {
        "colab": {
          "base_uri": "https://localhost:8080/"
        },
        "id": "Iyem1cQX0a0u",
        "outputId": "8acfadfd-2101-4406-9d5e-f664ee42c745"
      },
      "execution_count": 50,
      "outputs": [
        {
          "output_type": "stream",
          "name": "stdout",
          "text": [
            "How many customers are there? 2\n",
            "Enter the bills paid by customer 1: 10\n",
            "Enter the bills paid by customer 2: 10\n",
            "False\n"
          ]
        }
      ]
    },
    {
      "cell_type": "code",
      "source": [
        "result = lemonade()\n",
        "print(result)"
      ],
      "metadata": {
        "colab": {
          "base_uri": "https://localhost:8080/"
        },
        "id": "H0_M0Zur2WLV",
        "outputId": "8eeeaef3-ef72-4a09-fa0f-5b84b412603e"
      },
      "execution_count": 51,
      "outputs": [
        {
          "output_type": "stream",
          "name": "stdout",
          "text": [
            "How many customers are there? 3\n",
            "Enter the bills paid by customer 1: 5\n",
            "Enter the bills paid by customer 2: 5\n",
            "Enter the bills paid by customer 3: 10\n",
            "True\n"
          ]
        }
      ]
    },
    {
      "cell_type": "code",
      "source": [],
      "metadata": {
        "id": "5X9Qp5wD2Yp6"
      },
      "execution_count": null,
      "outputs": []
    }
  ]
}