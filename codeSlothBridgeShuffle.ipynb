{
  "nbformat": 4,
  "nbformat_minor": 0,
  "metadata": {
    "colab": {
      "provenance": [],
      "authorship_tag": "ABX9TyN8smOWl+XMQCnLWYkQmwhu",
      "include_colab_link": true
    },
    "kernelspec": {
      "name": "python3",
      "display_name": "Python 3"
    },
    "language_info": {
      "name": "python"
    }
  },
  "cells": [
    {
      "cell_type": "markdown",
      "metadata": {
        "id": "view-in-github",
        "colab_type": "text"
      },
      "source": [
        "<a href=\"https://colab.research.google.com/github/HighlandCuwu/Sloth_Weekly_Challenges/blob/main/codeSlothBridgeShuffle.ipynb\" target=\"_parent\"><img src=\"https://colab.research.google.com/assets/colab-badge.svg\" alt=\"Open In Colab\"/></a>"
      ]
    },
    {
      "cell_type": "code",
      "execution_count": 1,
      "metadata": {
        "id": "mMKCkASxOYkT"
      },
      "outputs": [],
      "source": [
        "from itertools import zip_longest"
      ]
    },
    {
      "cell_type": "code",
      "source": [
        "def shuffle_arrays(array1, array2):\n",
        "\n",
        "  shuffled_array = []\n",
        "\n",
        "  for x, y in zip_longest(array1, array2, fillvalue = 0):\n",
        "    shuffled_array.append(x)\n",
        "    shuffled_array.append(y)\n",
        "\n",
        "  for x in shuffled_array:\n",
        "    if x == 0:\n",
        "      shuffled_array.remove(0)\n",
        "\n",
        "  return shuffled_array;"
      ],
      "metadata": {
        "id": "CM0MgPviOm7V"
      },
      "execution_count": 2,
      "outputs": []
    },
    {
      "cell_type": "code",
      "source": [
        "array1 = ['A', 'A', 'A', 'A']\n",
        "array2 = ['B', 'B', 'B', 'B']\n",
        "\n",
        "shuffled_array=shuffle_arrays(array1, array2)\n",
        "print(shuffled_array)"
      ],
      "metadata": {
        "colab": {
          "base_uri": "https://localhost:8080/"
        },
        "id": "DAWbxSb8PDAp",
        "outputId": "b4b67f96-ee5d-43fc-cdf8-c72abb72f8a3"
      },
      "execution_count": 4,
      "outputs": [
        {
          "output_type": "stream",
          "name": "stdout",
          "text": [
            "['A', 'B', 'A', 'B', 'A', 'B', 'A', 'B']\n"
          ]
        }
      ]
    },
    {
      "cell_type": "code",
      "source": [
        "array1 = ['C', 'C', 'C', 'C']\n",
        "array2 = ['D']\n",
        "\n",
        "shuffled_array=shuffle_arrays(array1, array2)\n",
        "print(shuffled_array)"
      ],
      "metadata": {
        "colab": {
          "base_uri": "https://localhost:8080/"
        },
        "id": "PHWgao1NPfSs",
        "outputId": "c49ff0cb-2566-4970-ec30-abae9a656e33"
      },
      "execution_count": 5,
      "outputs": [
        {
          "output_type": "stream",
          "name": "stdout",
          "text": [
            "['C', 'D', 'C', 'C', 'C']\n"
          ]
        }
      ]
    },
    {
      "cell_type": "code",
      "source": [],
      "metadata": {
        "id": "MtD2gPStPuzq"
      },
      "execution_count": null,
      "outputs": []
    }
  ]
}