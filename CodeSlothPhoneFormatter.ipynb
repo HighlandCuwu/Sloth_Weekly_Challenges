{
  "nbformat": 4,
  "nbformat_minor": 0,
  "metadata": {
    "colab": {
      "provenance": [],
      "authorship_tag": "ABX9TyMzJhJTgLj09i+QHEvqIaQ6",
      "include_colab_link": true
    },
    "kernelspec": {
      "name": "python3",
      "display_name": "Python 3"
    },
    "language_info": {
      "name": "python"
    }
  },
  "cells": [
    {
      "cell_type": "markdown",
      "metadata": {
        "id": "view-in-github",
        "colab_type": "text"
      },
      "source": [
        "<a href=\"https://colab.research.google.com/github/HighlandCuwu/Sloth_Weekly_Challenges/blob/main/CodeSlothPhoneFormatter.ipynb\" target=\"_parent\"><img src=\"https://colab.research.google.com/assets/colab-badge.svg\" alt=\"Open In Colab\"/></a>"
      ]
    },
    {
      "cell_type": "code",
      "execution_count": 1,
      "metadata": {
        "colab": {
          "base_uri": "https://localhost:8080/"
        },
        "id": "BVYXfhe0bNY5",
        "outputId": "8908b3ad-b4cc-4c0a-aa82-3882385bde6f"
      },
      "outputs": [
        {
          "output_type": "stream",
          "name": "stdout",
          "text": [
            "(123) 456-7890\n",
            "(519) 555-4468\n",
            "(345) 501-2527\n",
            "(555) 867-5309\n"
          ]
        }
      ],
      "source": [
        "#my first Sloth Weekly Challenge take a list of phone numbers and change it into what looks like a proper phone number\n",
        "\n",
        "def format_phone_number(phone_number):\n",
        "    formatted_phone_number = \"\".join(str(x)for x in phone_number)\n",
        "    #print(formatted_phone_number)\n",
        "    print(\"(\" + formatted_phone_number[0:3] + \") \" + formatted_phone_number[3:6] + \"-\" + formatted_phone_number[6:]);\n",
        "    return;\n",
        "\n",
        "format_phone_number([1, 2, 3, 4, 5, 6, 7, 8, 9, 0])\n",
        "format_phone_number([5, 1, 9, 5, 5, 5, 4, 4, 6, 8])\n",
        "format_phone_number([3, 4, 5, 5, 0, 1, 2, 5, 2, 7])\n",
        "#one more for funsies\n",
        "format_phone_number([5, 5, 5, 8, 6, 7, 5, 3, 0, 9])\n"
      ]
    },
    {
      "cell_type": "code",
      "source": [],
      "metadata": {
        "id": "uPjgCHEtcN_X"
      },
      "execution_count": null,
      "outputs": []
    }
  ]
}