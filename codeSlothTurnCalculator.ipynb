{
  "nbformat": 4,
  "nbformat_minor": 0,
  "metadata": {
    "colab": {
      "provenance": [],
      "authorship_tag": "ABX9TyPvIWx/GPVJM7z+YYgH2Dha",
      "include_colab_link": true
    },
    "kernelspec": {
      "name": "python3",
      "display_name": "Python 3"
    },
    "language_info": {
      "name": "python"
    }
  },
  "cells": [
    {
      "cell_type": "markdown",
      "metadata": {
        "id": "view-in-github",
        "colab_type": "text"
      },
      "source": [
        "<a href=\"https://colab.research.google.com/github/HighlandCuwu/Sloth_Weekly_Challenges/blob/main/codeSlothTurnCalculator.ipynb\" target=\"_parent\"><img src=\"https://colab.research.google.com/assets/colab-badge.svg\" alt=\"Open In Colab\"/></a>"
      ]
    },
    {
      "cell_type": "code",
      "execution_count": 10,
      "metadata": {
        "id": "C3Bdns4xwjA-"
      },
      "outputs": [],
      "source": [
        "def transformDigits(x):\n",
        "  if x == '.':\n",
        "    x = ''\n",
        "    return x\n",
        "  elif x == '0':\n",
        "    x = 'o'\n",
        "    return x\n",
        "  elif x == '1':\n",
        "    x = 'i'\n",
        "    return x\n",
        "  elif x == '2':\n",
        "    x = 'z'\n",
        "    return x\n",
        "  elif x == '3':\n",
        "    x = 'e'\n",
        "    return x\n",
        "  elif x == '4':\n",
        "    x = 'h'\n",
        "    return x\n",
        "  elif x == '5':\n",
        "    x = 's'\n",
        "    return x\n",
        "  elif x == '6':\n",
        "    x = 'g'\n",
        "    return x\n",
        "  elif x == '7':\n",
        "    x = 'l'\n",
        "    return x\n",
        "  elif x == '8':\n",
        "    x = 'b'\n",
        "    return x\n",
        "  elif x == '9':\n",
        "    x = '-'\n",
        "    return x\n",
        "  else:\n",
        "    x = ''\n",
        "    return x"
      ]
    },
    {
      "cell_type": "code",
      "source": [
        "def rotateIt(calc):\n",
        "  numberToLetter = str(calc)\n",
        "  letterCalc = []\n",
        "  for x in numberToLetter:\n",
        "    letterCalc.append(transformDigits(x))\n",
        "  letterCalc.reverse()\n",
        "  finalCalc = ''.join(letterCalc).upper()\n",
        "  print(finalCalc)"
      ],
      "metadata": {
        "id": "ZEjR9Y_xw4OU"
      },
      "execution_count": 31,
      "outputs": []
    },
    {
      "cell_type": "code",
      "source": [
        "def getUserInput():\n",
        "  userInput = input('To quit press \"q\". Otherwise, enter a number: ')\n",
        "  if userInput == 'q' or userInput == 'Q':\n",
        "    counter = 1\n",
        "    return counter\n",
        "  else:\n",
        "    rotateIt(userInput)\n",
        "    counter = 0\n",
        "    return counter"
      ],
      "metadata": {
        "id": "oQd_8sELw4eA"
      },
      "execution_count": 32,
      "outputs": []
    },
    {
      "cell_type": "code",
      "source": [
        "def turnCalc():\n",
        "  keepGoing = getUserInput()\n",
        "  while keepGoing == 0:\n",
        "    keepGoing = getUserInput()"
      ],
      "metadata": {
        "id": "RiAI-cyLw_Ol"
      },
      "execution_count": 33,
      "outputs": []
    },
    {
      "cell_type": "code",
      "source": [
        "turnCalc()"
      ],
      "metadata": {
        "colab": {
          "base_uri": "https://localhost:8080/"
        },
        "id": "T9xS-IgzzVIF",
        "outputId": "38e414c7-4174-43a0-d0b2-91ec534c8b88"
      },
      "execution_count": 34,
      "outputs": [
        {
          "name": "stdout",
          "output_type": "stream",
          "text": [
            "To quit press \"q\". Otherwise, enter a number: 707\n",
            "LOL\n",
            "To quit press \"q\". Otherwise, enter a number: 58008\n",
            "BOOBS\n",
            "To quit press \"q\". Otherwise, enter a number: 3045\n",
            "SHOE\n",
            "To quit press \"q\". Otherwise, enter a number: 07734\n",
            "HELLO\n",
            "To quit press \"q\". Otherwise, enter a number: d\n",
            "\n",
            "To quit press \"q\". Otherwise, enter a number: Q\n"
          ]
        }
      ]
    },
    {
      "cell_type": "code",
      "source": [],
      "metadata": {
        "id": "rm0ZFt630f1z"
      },
      "execution_count": null,
      "outputs": []
    }
  ]
}