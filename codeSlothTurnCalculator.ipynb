{
  "nbformat": 4,
  "nbformat_minor": 0,
  "metadata": {
    "colab": {
      "provenance": [],
      "authorship_tag": "ABX9TyNZ3w23qC/6NDQJ+LUnDHoV",
      "include_colab_link": true
    },
    "kernelspec": {
      "name": "python3",
      "display_name": "Python 3"
    },
    "language_info": {
      "name": "python"
    }
  },
  "cells": [
    {
      "cell_type": "markdown",
      "metadata": {
        "id": "view-in-github",
        "colab_type": "text"
      },
      "source": [
        "<a href=\"https://colab.research.google.com/github/HighlandCuwu/Sloth_Weekly_Challenges/blob/main/codeSlothTurnCalculator.ipynb\" target=\"_parent\"><img src=\"https://colab.research.google.com/assets/colab-badge.svg\" alt=\"Open In Colab\"/></a>"
      ]
    },
    {
      "cell_type": "code",
      "execution_count": 10,
      "metadata": {
        "id": "C3Bdns4xwjA-"
      },
      "outputs": [],
      "source": [
        "#Probably not the best way to do this, I think I've done something similar with\n",
        "# a dictionary before but not sure\n",
        "\n",
        "def transformDigits(x):\n",
        "\n",
        "  #This part is to ignore the . specifically\n",
        "  if x == '.':\n",
        "    x = ''\n",
        "    return x\n",
        "\n",
        "  #All the numbers to be convereted\n",
        "  elif x == '0':\n",
        "    x = 'o'\n",
        "    return x\n",
        "  elif x == '1':\n",
        "    x = 'i'\n",
        "    return x\n",
        "  elif x == '2':\n",
        "    x = 'z'\n",
        "    return x\n",
        "  elif x == '3':\n",
        "    x = 'e'\n",
        "    return x\n",
        "  elif x == '4':\n",
        "    x = 'h'\n",
        "    return x\n",
        "  elif x == '5':\n",
        "    x = 's'\n",
        "    return x\n",
        "  elif x == '6':\n",
        "    x = 'g'\n",
        "    return x\n",
        "  elif x == '7':\n",
        "    x = 'l'\n",
        "    return x\n",
        "  elif x == '8':\n",
        "    x = 'b'\n",
        "    return x\n",
        "  elif x == '9':\n",
        "    x = '-'\n",
        "    return x\n",
        "\n",
        "  #I could've put the period here but I specifically wanted to make sure it\n",
        "  # was called out per the instructions.\n",
        "  else:\n",
        "    x = ''\n",
        "    return x"
      ]
    },
    {
      "cell_type": "code",
      "source": [
        "def rotateIt(calc):\n",
        "\n",
        "  #Change all the numbers to letters\n",
        "  numberToLetter = str(calc)\n",
        "  letterCalc = []\n",
        "\n",
        "  #Add the new letters to our list\n",
        "  for x in numberToLetter:\n",
        "    letterCalc.append(transformDigits(x))\n",
        "\n",
        "  #Reverse the list\n",
        "  letterCalc.reverse()\n",
        "\n",
        "  #Join the list and make it all upper (I probably could've made it all upper\n",
        "  # case in transformDigits() BUT instructions say -convert- to uppercase so I\n",
        "  # went this route with it).\n",
        "  finalCalc = ''.join(letterCalc).upper()\n",
        "\n",
        "  #print out the words\n",
        "  print(finalCalc)"
      ],
      "metadata": {
        "id": "ZEjR9Y_xw4OU"
      },
      "execution_count": 31,
      "outputs": []
    },
    {
      "cell_type": "code",
      "source": [
        "#Okay, while this wasn't -specifically- requested I was getting an error\n",
        "# whenever I went to put like turnCalc(07734) in because it starts with a\n",
        "# leading zero. So by making it into an if-else statement it accepts the 0 in\n",
        "# front. It might be because its user input, I'm not 100% sure and I'm still\n",
        "# trying to figure out why it works, but I was happy that I got it -to- work\n",
        "# this way.\n",
        "\n",
        "def getUserInput():\n",
        "\n",
        "  userInput = input('To quit press \"q\". Otherwise, enter a number: ')\n",
        "  if userInput == 'q' or userInput == 'Q':\n",
        "    counter = 1\n",
        "    return counter\n",
        "\n",
        "  else:\n",
        "    rotateIt(userInput)\n",
        "    counter = 0\n",
        "    return counter"
      ],
      "metadata": {
        "id": "oQd_8sELw4eA"
      },
      "execution_count": 32,
      "outputs": []
    },
    {
      "cell_type": "code",
      "source": [
        "#Changed a little from how it started. See above comments. Ultimately, I'm\n",
        "# prety happy with the way it worked out.\n",
        "\n",
        "def turnCalc():\n",
        "\n",
        "  keepGoing = getUserInput()\n",
        "  while keepGoing == 0:\n",
        "    keepGoing = getUserInput()"
      ],
      "metadata": {
        "id": "RiAI-cyLw_Ol"
      },
      "execution_count": 35,
      "outputs": []
    },
    {
      "cell_type": "code",
      "source": [
        "turnCalc()"
      ],
      "metadata": {
        "colab": {
          "base_uri": "https://localhost:8080/"
        },
        "id": "T9xS-IgzzVIF",
        "outputId": "850162ad-4e41-41ae-befd-0119b9757dbe"
      },
      "execution_count": 36,
      "outputs": [
        {
          "name": "stdout",
          "output_type": "stream",
          "text": [
            "To quit press \"q\". Otherwise, enter a number: \n",
            "\n",
            "To quit press \"q\". Otherwise, enter a number: .07734\n",
            "HELLO\n",
            "To quit press \"q\". Otherwise, enter a number: 07734\n",
            "HELLO\n",
            "To quit press \"q\". Otherwise, enter a number: 58008\n",
            "BOOBS\n",
            "To quit press \"q\". Otherwise, enter a number: 3045\n",
            "SHOE\n",
            "To quit press \"q\". Otherwise, enter a number: 707\n",
            "LOL\n",
            "To quit press \"q\". Otherwise, enter a number: d\n",
            "\n",
            "To quit press \"q\". Otherwise, enter a number: D\n",
            "\n",
            "To quit press \"q\". Otherwise, enter a number: q\n"
          ]
        }
      ]
    },
    {
      "cell_type": "code",
      "source": [],
      "metadata": {
        "id": "rm0ZFt630f1z"
      },
      "execution_count": 36,
      "outputs": []
    }
  ]
}